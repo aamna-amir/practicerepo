{
 "cells": [
  {
   "cell_type": "code",
   "execution_count": 50,
   "metadata": {},
   "outputs": [
    {
     "name": "stdout",
     "output_type": "stream",
     "text": [
      "\n",
      "china china china china china \n",
      "china china china china china \n",
      "china china china china china \n",
      "china china china china china \n",
      "china china china china china "
     ]
    }
   ],
   "source": [
    "cont=\"china\"\n",
    "for i in range(0,10,2):\n",
    "    print()\n",
    "    for char in cont:\n",
    "        print(cont,end=\" \")"
   ]
  },
  {
   "cell_type": "code",
   "execution_count": 1,
   "metadata": {
    "tags": []
   },
   "outputs": [
    {
     "output_type": "stream",
     "name": "stdout",
     "text": "new changes\n"
    }
   ],
   "source": [
    "print(\"new changes\")"
   ]
  },
  {
   "cell_type": "code",
   "execution_count": 23,
   "metadata": {},
   "outputs": [
    {
     "name": "stdout",
     "output_type": "stream",
     "text": [
      "11\n",
      "13\n",
      "15\n",
      "17\n",
      "19\n",
      "21\n",
      "23\n",
      "25\n",
      "27\n",
      "29\n"
     ]
    }
   ],
   "source": [
    "var = 10\n",
    "for i in range(10):\n",
    "    for j in range(2,10,1):\n",
    "        if var%2 == 0:\n",
    "            continue\n",
    "            var += 1\n",
    "        var+=1\n",
    "    else:\n",
    "        var += 1\n",
    "    print(var)"
   ]
  },
  {
   "cell_type": "code",
   "execution_count": 1,
   "metadata": {
    "tags": []
   },
   "outputs": [
    {
     "output_type": "stream",
     "name": "stdout",
     "text": "new changings\n"
    }
   ],
   "source": [
    "print(\"new changings\")"
   ]
  },
  {
   "cell_type": "markdown",
   "metadata": {},
   "source": [
    "# Practice Exercises"
   ]
  },
  {
   "cell_type": "markdown",
   "metadata": {},
   "source": [
    "### Q#1"
   ]
  },
  {
   "cell_type": "code",
   "execution_count": 2,
   "metadata": {},
   "outputs": [
    {
     "name": "stdout",
     "output_type": "stream",
     "text": [
      "[2002, 2009, 2016, 2023, 2037, 2044, 2051, 2058, 2072, 2079, 2086, 2093, 2107, 2114, 2121, 2128, 2142, 2149, 2156, 2163, 2177, 2184, 2191, 2198, 2212, 2219, 2226, 2233, 2247, 2254, 2261, 2268, 2282, 2289, 2296, 2303, 2317, 2324, 2331, 2338, 2352, 2359, 2366, 2373, 2387, 2394, 2401, 2408, 2422, 2429, 2436, 2443, 2457, 2464, 2471, 2478, 2492, 2499, 2506, 2513, 2527, 2534, 2541, 2548, 2562, 2569, 2576, 2583, 2597, 2604, 2611, 2618, 2632, 2639, 2646, 2653, 2667, 2674, 2681, 2688, 2702, 2709, 2716, 2723, 2737, 2744, 2751, 2758, 2772, 2779, 2786, 2793, 2807, 2814, 2821, 2828, 2842, 2849, 2856, 2863, 2877, 2884, 2891, 2898, 2912, 2919, 2926, 2933, 2947, 2954, 2961, 2968, 2982, 2989, 2996, 3003, 3017, 3024, 3031, 3038, 3052, 3059, 3066, 3073, 3087, 3094, 3101, 3108, 3122, 3129, 3136, 3143, 3157, 3164, 3171, 3178, 3192, 3199]\n"
     ]
    }
   ],
   "source": [
    "l=[]\n",
    "for i in range(2000,3201):\n",
    "    if (i%7 == 0) and (i%5 != 0):\n",
    "        l.append(i)\n",
    "print(l)"
   ]
  },
  {
   "cell_type": "markdown",
   "metadata": {},
   "source": [
    "### Q#2"
   ]
  },
  {
   "cell_type": "code",
   "execution_count": 5,
   "metadata": {},
   "outputs": [
    {
     "name": "stdout",
     "output_type": "stream",
     "text": [
      "Enter a number: 4\n",
      "24\n"
     ]
    }
   ],
   "source": [
    "def fact(x):\n",
    "    if x == 0:\n",
    "        return 1\n",
    "    return x * fact(x-1)        \n",
    "x = int(input(\"Enter a number: \"))\n",
    "print(fact(x))"
   ]
  },
  {
   "cell_type": "markdown",
   "metadata": {},
   "source": [
    "### Q#3"
   ]
  },
  {
   "cell_type": "code",
   "execution_count": 6,
   "metadata": {},
   "outputs": [
    {
     "name": "stdout",
     "output_type": "stream",
     "text": [
      "Enter a number: 4\n",
      "{1: 1, 2: 4, 3: 9, 4: 16}\n"
     ]
    }
   ],
   "source": [
    "n = int(input(\"Enter a number: \"))\n",
    "d = dict()\n",
    "for i in range(1,n+1):\n",
    "    d[i] = i*i\n",
    "print(d)"
   ]
  },
  {
   "cell_type": "markdown",
   "metadata": {},
   "source": [
    "### Q#4"
   ]
  },
  {
   "cell_type": "code",
   "execution_count": 4,
   "metadata": {},
   "outputs": [
    {
     "name": "stdout",
     "output_type": "stream",
     "text": [
      "Enter the numbers for list and tuple: 1,2,3,4,5\n",
      "['1', '2', '3', '4', '5']\n",
      "('1', '2', '3', '4', '5')\n"
     ]
    }
   ],
   "source": [
    "values = input(\"Enter the numbers for list and tuple: \")\n",
    "l = values.split(\",\")\n",
    "t = tuple(l)\n",
    "print(l)\n",
    "print(t)"
   ]
  },
  {
   "cell_type": "markdown",
   "metadata": {},
   "source": [
    "### Q#5 \n",
    "Write a program that calculates and prints the value according to the given formula:\n",
    "Q = Square root of [(2 * C * D)/H]\n",
    "Following are the fixed values of C and H:\n",
    "C is 50. H is 30.\n",
    "D is the variable whose values should be input to your program in a comma-separated sequence.\n",
    "Example\n",
    "Let us assume the following comma separated input sequence is given to the program:\n",
    "100,150,180\n",
    "The output of the program should be:\n",
    "18,22,24\n",
    "\n",
    "Hints:\n",
    "If the output received is in decimal form, it should be rounded off to its nearest value (for example, if the output received is 26.0, it should be printed as 26)\n",
    "In case of input data being supplied to the question, it should be assumed to be a console input. "
   ]
  },
  {
   "cell_type": "code",
   "execution_count": 7,
   "metadata": {},
   "outputs": [
    {
     "name": "stdout",
     "output_type": "stream",
     "text": [
      "Enter Number: 12,14,16\n",
      "['4', '4', '4']\n"
     ]
    }
   ],
   "source": [
    "import math\n",
    "c = 30\n",
    "h = 50\n",
    "value = []\n",
    "items = [x for x in input(\"Enter Number: \").split(',')]\n",
    "for d in items:\n",
    "    value.append(str(int(round(math.sqrt(2*c*float(d)/h)))))\n",
    "print(value)"
   ]
  },
  {
   "cell_type": "code",
   "execution_count": 6,
   "metadata": {},
   "outputs": [
    {
     "name": "stdout",
     "output_type": "stream",
     "text": [
      "Twinkle, twinkle, little star,\n",
      "\tHow I wonder what you are! \n",
      "\t\tUp above the world so high,\n",
      "\t\tLike a diamond in the sky.\n",
      "Twinkle, twinkle, little star,\n",
      "\tHow I wonder what you are\n"
     ]
    }
   ],
   "source": [
    "print(\"Twinkle, twinkle, little star,\\n\\tHow I wonder what you are! \\n\\t\\tUp above the world so high,\\n\\t\\tLike a diamond in the sky.\\nTwinkle, twinkle, little star,\\n\\tHow I wonder what you are\")"
   ]
  },
  {
   "cell_type": "code",
   "execution_count": 8,
   "metadata": {},
   "outputs": [
    {
     "name": "stdout",
     "output_type": "stream",
     "text": [
      "Python Version: \n",
      "3.7.6 (default, Jan  8 2020, 20:23:39) [MSC v.1916 64 bit (AMD64)]\n",
      "Version Information:\n",
      "sys.version_info(major=3, minor=7, micro=6, releaselevel='final', serial=0)\n"
     ]
    }
   ],
   "source": [
    "import sys\n",
    "print(\"Python Version: \")\n",
    "print(sys.version)\n",
    "print(\"Version Information:\")\n",
    "print(sys.version_info)"
   ]
  },
  {
   "cell_type": "code",
   "execution_count": 26,
   "metadata": {},
   "outputs": [
    {
     "name": "stdout",
     "output_type": "stream",
     "text": [
      "Current date and time:\n",
      "20/05/2020 01:25:57\n"
     ]
    }
   ],
   "source": [
    "import datetime\n",
    "now = datetime.datetime.now()\n",
    "print(\"Current date and time:\")\n",
    "print(now.strftime(\"%d/%m/%Y %H:%M:%S\"))"
   ]
  },
  {
   "cell_type": "code",
   "execution_count": 29,
   "metadata": {},
   "outputs": [
    {
     "name": "stdout",
     "output_type": "stream",
     "text": [
      "Enter the radius of the circle: 1.1\n",
      "Area of circle of radius 1.1 is: 3.8013271108436504\n"
     ]
    }
   ],
   "source": [
    "from math import pi\n",
    "r = float(input(\"Enter the radius of the circle: \"))\n",
    "area = pi*r**2\n",
    "print(\"Area of circle of radius \" + str(r)+\" is: \"+ str(area))"
   ]
  },
  {
   "cell_type": "code",
   "execution_count": 32,
   "metadata": {},
   "outputs": [
    {
     "name": "stdout",
     "output_type": "stream",
     "text": [
      "Enter first name: amir\n",
      "Enter last name: amna\n",
      "Hello amna amir\n"
     ]
    }
   ],
   "source": [
    "fname = input(\"Enter first name: \")\n",
    "lname = input(\"Enter last name: \")\n",
    "print(\"Hello \" + lname + \" \" + fname)"
   ]
  },
  {
   "cell_type": "code",
   "execution_count": 1,
   "metadata": {},
   "outputs": [
    {
     "name": "stdout",
     "output_type": "stream",
     "text": [
      "Enter comma separated values: 1,2,3\n",
      "List:  ['1', '2', '3']\n",
      "Tuple:  ('1', '2', '3')\n"
     ]
    }
   ],
   "source": [
    "values = input(\"Enter comma separated values: \")\n",
    "list = values.split(\",\")\n",
    "tuple = tuple(list)\n",
    "print(\"List: \", list)\n",
    "print(\"Tuple: \", tuple)"
   ]
  },
  {
   "cell_type": "code",
   "execution_count": 13,
   "metadata": {},
   "outputs": [
    {
     "name": "stdout",
     "output_type": "stream",
     "text": [
      "Help on built-in function repr in module builtins:\n",
      "\n",
      "repr(obj, /)\n",
      "    Return the canonical string representation of the object.\n",
      "    \n",
      "    For many object types, including most builtins, eval(repr(obj)) == obj.\n",
      "\n"
     ]
    }
   ],
   "source": [
    "help(\"repr\")"
   ]
  },
  {
   "cell_type": "code",
   "execution_count": 15,
   "metadata": {},
   "outputs": [
    {
     "name": "stdout",
     "output_type": "stream",
     "text": [
      "Enter your file name: myfile.html\n",
      "Your file extansion is: 'html'\n"
     ]
    }
   ],
   "source": [
    "file_name = input(\"Enter your file name: \")\n",
    "f_ext = file_name.split(\".\")\n",
    "print(\"Your file extansion is: \" + repr(f_ext[-1]))"
   ]
  },
  {
   "cell_type": "code",
   "execution_count": 27,
   "metadata": {},
   "outputs": [
    {
     "name": "stdout",
     "output_type": "stream",
     "text": [
      "3\n",
      "5\n",
      "8\n",
      "10\n"
     ]
    }
   ],
   "source": [
    "count = 0\n",
    "for i in range(1,5):\n",
    "    for j in range(0,5,2):\n",
    "        if i == j:\n",
    "            continue\n",
    "        else:\n",
    "            count+=1\n",
    "print(count)"
   ]
  },
  {
   "cell_type": "code",
   "execution_count": 15,
   "metadata": {},
   "outputs": [
    {
     "name": "stdout",
     "output_type": "stream",
     "text": [
      "A B C D "
     ]
    }
   ],
   "source": [
    "l=[\"A\",\"B\",\"C\",\"D\"]\n",
    "for i in range(len(l)):\n",
    "    print(l[i], end=\" \")"
   ]
  },
  {
   "cell_type": "code",
   "execution_count": 17,
   "metadata": {},
   "outputs": [
    {
     "name": "stdout",
     "output_type": "stream",
     "text": [
      "1\n",
      "3\n",
      "5\n",
      "7\n",
      "9\n"
     ]
    }
   ],
   "source": [
    "for i in range(1,10,2):\n",
    "    print(i)"
   ]
  },
  {
   "cell_type": "code",
   "execution_count": 36,
   "metadata": {},
   "outputs": [
    {
     "name": "stdout",
     "output_type": "stream",
     "text": [
      "Quetta in KPK\n",
      "20\n"
     ]
    }
   ],
   "source": [
    "inner =0\n",
    "cities = [\"lahore\", \"karachi\", \"Quetta\", \"Peshawar\", \"Gilgit\"]\n",
    "provinces =[\"Punjab\", \"KPK\",\"Balochistan\",\"Sindh\"]\n",
    "for each_city in cities:\n",
    "    for each_province in provinces:\n",
    "        if each_city==\"Quetta\" and each_province==\"KPK\":\n",
    "            print(each_city + \" in \" +each_province)\n",
    "        inner += 1\n",
    "print(inner)"
   ]
  },
  {
   "cell_type": "code",
   "execution_count": 1,
   "metadata": {},
   "outputs": [
    {
     "name": "stdout",
     "output_type": "stream",
     "text": [
      "A B C D "
     ]
    }
   ],
   "source": [
    "x = 'abcd'\n",
    "for i in x:\n",
    "    print(i.upper(),end=\" \")"
   ]
  },
  {
   "cell_type": "code",
   "execution_count": 37,
   "metadata": {},
   "outputs": [],
   "source": [
    "l=[75,43,66,87]\n",
    "for i in range(len(l)):\n",
    "    if l[i]==66:\n",
    "        print(l[i], end=\" \")\n",
    "    else:\n",
    "        break"
   ]
  },
  {
   "cell_type": "code",
   "execution_count": 47,
   "metadata": {},
   "outputs": [
    {
     "name": "stdout",
     "output_type": "stream",
     "text": [
      "0\n",
      "8\n",
      "8\n",
      "16\n",
      "16\n",
      "24\n",
      "24\n",
      "32\n",
      "32\n",
      "40\n",
      "20\n"
     ]
    }
   ],
   "source": [
    "var = 10\n",
    "inner = 0\n",
    "for i in range(10):\n",
    "    for j in range(2,10,1):\n",
    "        if var % 2 == 0:\n",
    "            continue\n",
    "        inner += 1\n",
    "    print(inner)\n",
    "    var += 1\n",
    "print(var)"
   ]
  },
  {
   "cell_type": "code",
   "execution_count": 7,
   "metadata": {},
   "outputs": [
    {
     "name": "stdout",
     "output_type": "stream",
     "text": [
      "Enter your name: name amna\n",
      "{'name': 'amna'}\n"
     ]
    }
   ],
   "source": [
    "d ={}\n",
    "d_1 = input(\"Enter your name: \").split(\" \")\n",
    "d[d_1[0]]=d_1[1]\n",
    "print(d)"
   ]
  },
  {
   "cell_type": "code",
   "execution_count": 12,
   "metadata": {},
   "outputs": [
    {
     "name": "stdout",
     "output_type": "stream",
     "text": [
      "Enter key: name amna\n",
      "['name', 'amna']\n",
      "{'name': 'amna'}\n"
     ]
    }
   ],
   "source": [
    "d_1 = input(\"Enter key: \").split(\" \")\n",
    "print(d_1)\n",
    "d={}\n",
    "d.update([d_1])\n",
    "print(d)"
   ]
  },
  {
   "cell_type": "code",
   "execution_count": 1,
   "metadata": {},
   "outputs": [
    {
     "name": "stdout",
     "output_type": "stream",
     "text": [
      "False\n"
     ]
    }
   ],
   "source": [
    "x = 0 \n",
    "y = 2 \n",
    "z = len(\"Python\") \n",
    "x = y > z \n",
    "print(x)"
   ]
  },
  {
   "cell_type": "code",
   "execution_count": 6,
   "metadata": {},
   "outputs": [
    {
     "name": "stdout",
     "output_type": "stream",
     "text": [
      "1   0\n",
      "1   0\n",
      "1   1\n",
      "0   1\n"
     ]
    }
   ],
   "source": [
    "Val = 1 \n",
    "Val2 = 0 \n",
    "print(Val, \" \", Val2)\n",
    "Val = Val ^ Val2 \n",
    "print(Val, \" \", Val2)\n",
    "Val2 = Val ^ Val2 \n",
    "print(Val, \" \", Val2)\n",
    "Val = Val ^ Val2\n",
    "print(Val, \" \", Val2)"
   ]
  },
  {
   "cell_type": "code",
   "execution_count": 8,
   "metadata": {},
   "outputs": [
    {
     "name": "stdout",
     "output_type": "stream",
     "text": [
      "0 1 2\n"
     ]
    }
   ],
   "source": [
    "z, y, x = 2, 1, 0 \n",
    "x, z = z, y \n",
    "y = y - z \n",
    "# put line here \n",
    "z, y, x = x, z, y \n",
    "print(x, y, z)"
   ]
  },
  {
   "cell_type": "code",
   "execution_count": 9,
   "metadata": {},
   "outputs": [
    {
     "name": "stdout",
     "output_type": "stream",
     "text": [
      "*\n",
      "*\n",
      "*\n"
     ]
    }
   ],
   "source": [
    "i = 10 \n",
    "while i > 0 : \n",
    "    i -= 3 \n",
    "    print(\"*\") \n",
    "    if i <= 3: \n",
    "        break \n",
    "else: \n",
    "    print(\"*\")"
   ]
  },
  {
   "cell_type": "code",
   "execution_count": 20,
   "metadata": {},
   "outputs": [
    {
     "name": "stdout",
     "output_type": "stream",
     "text": [
      "False\n"
     ]
    }
   ],
   "source": [
    "x = \"171\" \n",
    "y = \"205\" \n",
    "print(x > y)"
   ]
  },
  {
   "cell_type": "code",
   "execution_count": 14,
   "metadata": {},
   "outputs": [
    {
     "name": "stdout",
     "output_type": "stream",
     "text": [
      "a\n",
      "b\n",
      "c\n"
     ]
    }
   ],
   "source": [
    "dict = { 'a': 1, 'b': 2,  'c': 3 } \n",
    "for item in dict: \n",
    "    print(item)"
   ]
  },
  {
   "cell_type": "markdown",
   "metadata": {},
   "source": [
    "# lst = [[c for c in range(r)] for r in range(3)]  \n",
    "print(lst)"
   ]
  },
  {
   "cell_type": "code",
   "execution_count": 21,
   "metadata": {},
   "outputs": [
    {
     "name": "stdout",
     "output_type": "stream",
     "text": [
      "[1, 2, 4, 8, 16, 32, 64, 128, 256, 512, 1024]\n"
     ]
    }
   ],
   "source": [
    "lst = [2 ** x for x in range(0, 11)]\n",
    "print(lst)"
   ]
  },
  {
   "cell_type": "code",
   "execution_count": 3,
   "metadata": {},
   "outputs": [
    {
     "name": "stdout",
     "output_type": "stream",
     "text": [
      "[{'one': 3, 'two': 84}, {'three': 1234, 'four': 3584}]\n",
      "[{'one': 3, 'two': 84}, {'three': 1234, 'four': 3584}, 'three', 'four']\n",
      "three\n"
     ]
    }
   ],
   "source": [
    "dict1={\"one\":3,\"two\":84}\n",
    "dict2={\"three\":1234,\"four\":3584}\n",
    "dict3=[dict1,dict2]\n",
    "print(dict3)\n",
    "dict4={\"three\":1234,\"four\":3584}\n",
    "dict3.extend(dict4)\n",
    "print(dict3)\n",
    "print(dict3[2])"
   ]
  },
  {
   "cell_type": "code",
   "execution_count": 11,
   "metadata": {},
   "outputs": [
    {
     "name": "stdout",
     "output_type": "stream",
     "text": [
      "False\n"
     ]
    }
   ],
   "source": [
    "print(0.1+0.2==0.3)"
   ]
  },
  {
   "cell_type": "code",
   "execution_count": 6,
   "metadata": {},
   "outputs": [
    {
     "name": "stdout",
     "output_type": "stream",
     "text": [
      "2\n"
     ]
    }
   ],
   "source": [
    "print(2%6)"
   ]
  },
  {
   "cell_type": "code",
   "execution_count": 9,
   "metadata": {},
   "outputs": [
    {
     "name": "stdout",
     "output_type": "stream",
     "text": [
      "12\n"
     ]
    }
   ],
   "source": [
    "y = 10\n",
    "y += 2\n",
    "x = y\n",
    "print(x)"
   ]
  },
  {
   "cell_type": "code",
   "execution_count": 13,
   "metadata": {},
   "outputs": [
    {
     "name": "stdout",
     "output_type": "stream",
     "text": [
      "Enter Number1: 5\n",
      "Enter Number2: 2.0\n",
      "within range.\n",
      "just at boundary\n"
     ]
    }
   ],
   "source": [
    "var1 = int(input(\"Enter Number1: \"))\n",
    "var2 = float(input(\"Enter Number2: \"))\n",
    "if var1 == 5 and var2 == 2.0 and var2 <= 2.5:\n",
    "    print(\"within range.\")\n",
    "if var1 == 5 and var2 == 2.0 or var2 == 2.5:\n",
    "    print(\"just at boundary\")\n",
    "elif var1 == 5 and var2 > 2.2 or var2 < 3.0:\n",
    "    print(\"range2\")"
   ]
  },
  {
   "cell_type": "code",
   "execution_count": 24,
   "metadata": {},
   "outputs": [
    {
     "name": "stdout",
     "output_type": "stream",
     "text": [
      "['amnamir', 'female']\n",
      "female\n"
     ]
    }
   ],
   "source": [
    "x = list([\"amnamir\",\"female\"])\n",
    "print(x)\n",
    "print(x[-1])"
   ]
  },
  {
   "cell_type": "code",
   "execution_count": 28,
   "metadata": {},
   "outputs": [
    {
     "name": "stdout",
     "output_type": "stream",
     "text": [
      "2\n"
     ]
    }
   ],
   "source": [
    "counts = [1,2,2,4,5,6,4,7]\n",
    "count = counts.count(2)\n",
    "print(count)"
   ]
  },
  {
   "cell_type": "code",
   "execution_count": 31,
   "metadata": {},
   "outputs": [
    {
     "name": "stdout",
     "output_type": "stream",
     "text": [
      "lahore is capital of punjab.\n"
     ]
    }
   ],
   "source": [
    "cities = [\"lahore\",\"karachi\",\"quetta\",\"peshawar\",\"gilgit\"]\n",
    "provinces = [\"punjab\",\"KPK\",\"balochistan\",\"sindh\",\"gilgit baltistan\"]\n",
    "for each_province in provinces:\n",
    "    for each_city in cities:\n",
    "        if each_city == \"lahore\" and each_province == \"punjab\":\n",
    "            print(\"lahore is capital of punjab.\")"
   ]
  },
  {
   "cell_type": "code",
   "execution_count": 33,
   "metadata": {},
   "outputs": [
    {
     "name": "stdout",
     "output_type": "stream",
     "text": [
      "3\n",
      "5\n",
      "8\n",
      "10\n"
     ]
    }
   ],
   "source": [
    "count = 0\n",
    "for i in range(1,5):\n",
    "    for j in range(0,5,2):\n",
    "        if i == j:\n",
    "            continue\n",
    "        else:\n",
    "            count += 1\n",
    "    print(count)"
   ]
  },
  {
   "cell_type": "code",
   "execution_count": 36,
   "metadata": {},
   "outputs": [
    {
     "name": "stdout",
     "output_type": "stream",
     "text": [
      "we find  strawberry  and  okra\n",
      "19\n"
     ]
    }
   ],
   "source": [
    "count = 0\n",
    "fruits = [\"apple\",\"oranges\",\"strawberry\",\"banana\",\"mango\"]\n",
    "vegetables = [\"potato\",\"okra\",\"onion\",\"spinach\"]\n",
    "for fruit in fruits:\n",
    "    for vegetable in vegetables:\n",
    "        if fruit == \"strawberry\" and vegetable == \"okra\":\n",
    "            print(\"we find \",fruit, \" and \",vegetable)\n",
    "        else:\n",
    "            count += 1\n",
    "print(count)"
   ]
  },
  {
   "cell_type": "code",
   "execution_count": 39,
   "metadata": {},
   "outputs": [
    {
     "name": "stdout",
     "output_type": "stream",
     "text": [
      "A B C D "
     ]
    }
   ],
   "source": [
    "x = \"abcd\"\n",
    "for i in x:\n",
    "    print(i.upper(),end=\" \")"
   ]
  },
  {
   "cell_type": "code",
   "execution_count": 41,
   "metadata": {},
   "outputs": [
    {
     "name": "stdout",
     "output_type": "stream",
     "text": [
      "66 "
     ]
    }
   ],
   "source": [
    "l = [75,43,66,87]\n",
    "for i in range(len(l)):\n",
    "    if l[i] == 66:\n",
    "        print(l[i],end=\" \")\n",
    "    else:\n",
    "        continue"
   ]
  },
  {
   "cell_type": "code",
   "execution_count": 1,
   "metadata": {},
   "outputs": [
    {
     "name": "stdout",
     "output_type": "stream",
     "text": [
      "\n",
      "china\n",
      "china\n",
      "china\n",
      "china\n",
      "china"
     ]
    }
   ],
   "source": [
    "for i in range(0,10,2):\n",
    "    print()\n",
    "    for char in \"china\":\n",
    "        print(char,end=\"\")"
   ]
  },
  {
   "cell_type": "code",
   "execution_count": 8,
   "metadata": {},
   "outputs": [
    {
     "name": "stdout",
     "output_type": "stream",
     "text": [
      "123456\n"
     ]
    }
   ],
   "source": [
    "string = \"123456\"\n",
    "print(int(string))"
   ]
  },
  {
   "cell_type": "code",
   "execution_count": 5,
   "metadata": {},
   "outputs": [
    {
     "name": "stdout",
     "output_type": "stream",
     "text": [
      "\n",
      "china china china china china \n",
      "china china china china china \n",
      "china china china china china \n",
      "china china china china china \n",
      "china china china china china "
     ]
    }
   ],
   "source": [
    "country = \"china\"\n",
    "for i in range(0,10,2):\n",
    "    print()\n",
    "    for char in country:\n",
    "        print(country,end=\" \")"
   ]
  },
  {
   "cell_type": "code",
   "execution_count": 9,
   "metadata": {},
   "outputs": [
    {
     "name": "stdout",
     "output_type": "stream",
     "text": [
      "a b d e f f "
     ]
    }
   ],
   "source": [
    "l = [\"a\",\"b\",\"c\",\"d\",\"e\",\"f\"]\n",
    "for i in range(3,6): l[i-1]=l[i]\n",
    "for i in range(0,6): print(l[i],end=\" \")"
   ]
  },
  {
   "cell_type": "code",
   "execution_count": 12,
   "metadata": {},
   "outputs": [
    {
     "name": "stdout",
     "output_type": "stream",
     "text": [
      "['pakistan', 'bali']\n"
     ]
    }
   ],
   "source": [
    "names = [\"pakistan\",\"bali\",\"purwakarta\"]\n",
    "names.pop()\n",
    "print(names)"
   ]
  },
  {
   "cell_type": "code",
   "execution_count": 31,
   "metadata": {},
   "outputs": [
    {
     "name": "stdout",
     "output_type": "stream",
     "text": [
      "10\n",
      "10 2\n",
      "10 2 3\n",
      "3 2 01\n"
     ]
    }
   ],
   "source": [
    "dict1 = {\"a\":10,\"b\":2,\"c\":3}\n",
    "str1=\"\"\n",
    "for i in dict1:\n",
    "    str1 = str1 + str(dict1[i])+\" \"\n",
    "    str2= str1[:-1]\n",
    "    print(str2)\n",
    "print(str2[::-1])"
   ]
  },
  {
   "cell_type": "code",
   "execution_count": 32,
   "metadata": {},
   "outputs": [
    {
     "name": "stdout",
     "output_type": "stream",
     "text": [
      "('diary', 1)\n",
      "('book', 3)\n",
      "('novel', 5)\n"
     ]
    }
   ],
   "source": [
    "dict2 = {\"diary\":1,'book':3,\"novel\":5}\n",
    "for keyvalues in dict2.items():\n",
    "    print(keyvalues)"
   ]
  },
  {
   "cell_type": "code",
   "execution_count": 36,
   "metadata": {},
   "outputs": [
    {
     "ename": "AttributeError",
     "evalue": "'dict' object has no attribute 'remove'",
     "output_type": "error",
     "traceback": [
      "\u001b[1;31m---------------------------------------------------------------------------\u001b[0m",
      "\u001b[1;31mAttributeError\u001b[0m                            Traceback (most recent call last)",
      "\u001b[1;32m<ipython-input-36-e7d21ac1ba7b>\u001b[0m in \u001b[0;36m<module>\u001b[1;34m\u001b[0m\n\u001b[0;32m      6\u001b[0m         }\n\u001b[0;32m      7\u001b[0m         }\n\u001b[1;32m----> 8\u001b[1;33m \u001b[0mnames\u001b[0m\u001b[1;33m.\u001b[0m\u001b[0mremove\u001b[0m\u001b[1;33m(\u001b[0m\u001b[1;33m[\u001b[0m\u001b[1;34m\"countries\"\u001b[0m\u001b[1;33m]\u001b[0m\u001b[1;33m[\u001b[0m\u001b[1;34m\"europe\"\u001b[0m\u001b[1;33m]\u001b[0m\u001b[1;33m[\u001b[0m\u001b[1;34m\"usa\"\u001b[0m\u001b[1;33m]\u001b[0m\u001b[1;33m)\u001b[0m\u001b[1;33m\u001b[0m\u001b[1;33m\u001b[0m\u001b[0m\n\u001b[0m\u001b[0;32m      9\u001b[0m \u001b[0mprint\u001b[0m\u001b[1;33m(\u001b[0m\u001b[0mnames\u001b[0m\u001b[1;33m)\u001b[0m\u001b[1;33m\u001b[0m\u001b[1;33m\u001b[0m\u001b[0m\n",
      "\u001b[1;31mAttributeError\u001b[0m: 'dict' object has no attribute 'remove'"
     ]
    }
   ],
   "source": [
    "names = {\"cities\":[\"lahore\",\"islamabad\",\"karachi\",\"quetta\",\"peshawar\",\"gilgit\"],\n",
    "        \"countries\": {\n",
    "            \"asia\":[],\n",
    "            \"europe\":[\"usa\",\"england\",\"norway\"],\n",
    "            \"north\":[]\n",
    "        }\n",
    "        }\n",
    "names.remove([\"countries\"][\"europe\"][\"usa\"])\n",
    "print(names)"
   ]
  },
  {
   "cell_type": "code",
   "execution_count": 37,
   "metadata": {},
   "outputs": [
    {
     "name": "stdout",
     "output_type": "stream",
     "text": [
      "1:1 2 3 \n",
      "2:1 2 3 \n"
     ]
    }
   ],
   "source": [
    "for i in range(1,3):\n",
    "    print(i,end=\":\")\n",
    "    for j in range(1,10):\n",
    "        print(j,end=\" \")\n",
    "        if j == 3:\n",
    "            break\n",
    "    print()"
   ]
  },
  {
   "cell_type": "code",
   "execution_count": 47,
   "metadata": {},
   "outputs": [
    {
     "name": "stdout",
     "output_type": "stream",
     "text": [
      "{'address': 'ohiyo', 'phone': '123456', 'job': True}\n"
     ]
    }
   ],
   "source": [
    "l = {\"name1\":{\"address\":\"ohiyo\",\"phone\":\"123456\",\"job\":True},\n",
    "     \"name7\":{\"address\":\"alaska\",\"phone\":\"692456\",\"job\":False},\n",
    "     \"name2\":{\"address\":\"bejing\",\"phone\":\"1698566\",\"job\":True},\n",
    "     \"name5\":{\"address\":\"jakarta\",\"phone\":\"12255888\",\"job\":False}\n",
    "    }\n",
    "for i in l.():\n",
    "    if l[i][\"address\"]==\"ohiyo\":\n",
    "        print(l[i])"
   ]
  },
  {
   "cell_type": "code",
   "execution_count": 2,
   "metadata": {},
   "outputs": [],
   "source": [
    "dicta = {\"name\":[\"mike\",\"steve\"],\"salary\":[8000,9000]}\n",
    "temp = dicta.get(\"age\")"
   ]
  },
  {
   "cell_type": "code",
   "execution_count": 3,
   "metadata": {},
   "outputs": [
    {
     "name": "stdout",
     "output_type": "stream",
     "text": [
      "kabul\n"
     ]
    }
   ],
   "source": [
    "l = [{\"country\":\"albania\",\"capital\":\"tirana\"},\n",
    "    {\"country\":\"algeria\",\"capital\":\"algiers\"},\n",
    "    {\"country\":\"afghanistan\",\"capital\":\"kabul\"},\n",
    "    {\"country\":\"angola\",\"capital\":\"luanda\"}]\n",
    "for i in l:\n",
    "    if i[\"capital\"]==\"kabul\":\n",
    "        print(i[\"capital\"])"
   ]
  },
  {
   "cell_type": "code",
   "execution_count": 7,
   "metadata": {},
   "outputs": [
    {
     "data": {
      "text/plain": [
       "{1: [3, 4, 5], 2: [3, 4, 6, 7]}"
      ]
     },
     "execution_count": 7,
     "metadata": {},
     "output_type": "execute_result"
    }
   ],
   "source": [
    "dict1 = {1:[2,3,4,5],2:[3,4,6,7]}\n",
    "dict1[1].remove(2)\n",
    "dict1"
   ]
  },
  {
   "cell_type": "code",
   "execution_count": 8,
   "metadata": {},
   "outputs": [
    {
     "name": "stdout",
     "output_type": "stream",
     "text": [
      "2 10\n"
     ]
    }
   ],
   "source": [
    "word = \"a b c d a b c d a b c d\"\n",
    "print(word.find('b'),word.find('b',3))"
   ]
  },
  {
   "cell_type": "code",
   "execution_count": 33,
   "metadata": {},
   "outputs": [
    {
     "name": "stdout",
     "output_type": "stream",
     "text": [
      "[(2, 5), (3, 8), (4, 5), (5, 8)]\n"
     ]
    }
   ],
   "source": [
    "a1 = [2,4]\n",
    "a2 = [5,8]\n",
    "a3 = list()\n",
    "i=0\n",
    "j=0\n",
    "for i in a1:\n",
    "    for j in a2:\n",
    "        a3.append((i,j))\n",
    "        i+=1\n",
    "        j+=1\n",
    "print(a3)"
   ]
  },
  {
   "cell_type": "code",
   "execution_count": 1,
   "metadata": {},
   "outputs": [
    {
     "name": "stdout",
     "output_type": "stream",
     "text": [
      "2\n",
      "{'apple': 2, 'ball': 1}\n"
     ]
    }
   ],
   "source": [
    "total = {}\n",
    "def insert(items):\n",
    "    if items in total:\n",
    "        total[items] += 1\n",
    "    else:\n",
    "        total[items] = 1\n",
    "insert('apple')\n",
    "insert('ball')\n",
    "insert('apple')\n",
    "print(len(total))\n",
    "print(total)"
   ]
  },
  {
   "cell_type": "code",
   "execution_count": 12,
   "metadata": {
    "scrolled": false
   },
   "outputs": [],
   "source": [
    "reviews= [\n",
    "  {\n",
    "    \"uid\": 1,\n",
    "    \"images\": [\"https://api.adorable.io/avatars/285/xyz.png\"],\n",
    "    \"resturant\": { \"name\": \"Resturant XYZ\", \"address\": [\"South Padre Island\", \"TX\"], \"cuisines\": [\"Chinese\", \"Italian\", \"Japanese\"], \"image\": \"https://api.adorable.io/avatars/285/xyz.png\" },\n",
    "    \"user\": { \"name\": \"Mike Edward\", \"image\": \"https://api.adorable.io/avatars/285/xyz.png\", \"address\": \"Location\" },\n",
    "    \"ratingDate\": \"25 November 2018\",\n",
    "    \"review\": \"This all day dining place serves\",\n",
    "  },\n",
    "  {\n",
    "    \"uid\": 2,\n",
    "    \"images\": [\"https://api.adorable.io/avatars/285/xyz.png\"],\n",
    "    \"resturant\": { \"name\": \"Resturant XYZ\", \"address\": [\"South Padre Island\", \"TX\"], \"cuisines\": [\"Chinese\", \"Italian\", \"Japanese\"], \"image\": \"https://api.adorable.io/avatars/285/xyz.png\" },\n",
    "    \"user\": { \"name\": \"Mike Edward\", \"image\": \"https://api.adorable.io/avatars/285/xyz.png\", \"address\": \"Location\" },\n",
    "    \"ratingDate\": \"25 November 2019\",\n",
    "    \"review\": \"This all day dining place serves\",\n",
    "  }\n",
    "]"
   ]
  },
  {
   "cell_type": "code",
   "execution_count": 4,
   "metadata": {},
   "outputs": [
    {
     "name": "stdout",
     "output_type": "stream",
     "text": [
      "90\n"
     ]
    }
   ],
   "source": [
    "x = 0\n",
    "for i in range(10):\n",
    "    for j in range(-1,-10,-1):\n",
    "        x += 1\n",
    "print(x)"
   ]
  },
  {
   "cell_type": "code",
   "execution_count": 8,
   "metadata": {},
   "outputs": [
    {
     "data": {
      "text/plain": [
       "'islamabad'"
      ]
     },
     "execution_count": 8,
     "metadata": {},
     "output_type": "execute_result"
    }
   ],
   "source": [
    "l1 = [{\"country\":{\"pakistan\":\"islamabad\",\"england\":\"london\"}}]\n",
    "l1[0][\"country\"][\"pakistan\"]"
   ]
  },
  {
   "cell_type": "code",
   "execution_count": 13,
   "metadata": {},
   "outputs": [
    {
     "name": "stdout",
     "output_type": "stream",
     "text": [
      "[{'one': 1, 'two': 2}, {'three': 3, 'four': 4}, 'three', 'four']\n",
      "three\n"
     ]
    }
   ],
   "source": [
    "a = {'one':1,'two':2}\n",
    "b = {'three':3,'four':4}\n",
    "c = [a , b]\n",
    "d = {'three':3,'four':4}\n",
    "\n",
    "c.extend(d)\n",
    "print(c)\n",
    "print(c[2])"
   ]
  },
  {
   "cell_type": "code",
   "execution_count": 19,
   "metadata": {},
   "outputs": [
    {
     "name": "stdout",
     "output_type": "stream",
     "text": [
      "10 11 12 13 "
     ]
    }
   ],
   "source": [
    "for num in range(10,14):\n",
    "    for i in range(2,num):\n",
    "        print(num,end=\" \")\n",
    "        break"
   ]
  },
  {
   "cell_type": "code",
   "execution_count": 23,
   "metadata": {},
   "outputs": [
    {
     "name": "stdout",
     "output_type": "stream",
     "text": [
      "0 1 2 3 "
     ]
    }
   ],
   "source": [
    "a = [0,1,2,3]\n",
    "i = -2\n",
    "for i in a:\n",
    "    print(i)\n",
    "    i+=1"
   ]
  },
  {
   "cell_type": "code",
   "execution_count": 2,
   "metadata": {},
   "outputs": [
    {
     "name": "stdout",
     "output_type": "stream",
     "text": [
      "-98684.0\n"
     ]
    }
   ],
   "source": [
    "print(float('-98684\\n\\n\\t\\n'))"
   ]
  },
  {
   "cell_type": "code",
   "execution_count": 3,
   "metadata": {},
   "outputs": [
    {
     "name": "stdout",
     "output_type": "stream",
     "text": [
      "25\n",
      "result is None\n"
     ]
    }
   ],
   "source": [
    "def power(a,b):\n",
    "    print(a**b)\n",
    "print('result is', power(5,2))"
   ]
  },
  {
   "cell_type": "code",
   "execution_count": 1,
   "metadata": {},
   "outputs": [
    {
     "name": "stdout",
     "output_type": "stream",
     "text": [
      "1\n"
     ]
    }
   ],
   "source": [
    "print(1)"
   ]
  },
  {
   "cell_type": "code",
   "execution_count": 2,
   "metadata": {},
   "outputs": [],
   "source": [
    "def cube(x):\n",
    "    return x*x*x\n",
    "x= cube(3)"
   ]
  },
  {
   "cell_type": "code",
   "execution_count": 3,
   "metadata": {},
   "outputs": [
    {
     "name": "stdout",
     "output_type": "stream",
     "text": [
      "<class 'function'>\n"
     ]
    }
   ],
   "source": [
    "def afunc():\n",
    "    pass\n",
    "print(type(afunc))"
   ]
  },
  {
   "cell_type": "code",
   "execution_count": 4,
   "metadata": {},
   "outputs": [
    {
     "name": "stdout",
     "output_type": "stream",
     "text": [
      "it returns nothing\n",
      "None\n"
     ]
    }
   ],
   "source": [
    "def a_func_that_returns_nothing():\n",
    "    print(\"it returns nothing\")\n",
    "    \n",
    "a = a_func_that_returns_nothing()\n",
    "print(a)"
   ]
  },
  {
   "cell_type": "code",
   "execution_count": 6,
   "metadata": {},
   "outputs": [
    {
     "name": "stdout",
     "output_type": "stream",
     "text": [
      "it returns nothing\n",
      "<class 'NoneType'>\n"
     ]
    }
   ],
   "source": [
    "print(type(a_func_that_returns_nothing()))"
   ]
  },
  {
   "cell_type": "code",
   "execution_count": 1,
   "metadata": {},
   "outputs": [
    {
     "name": "stdout",
     "output_type": "stream",
     "text": [
      "{}\n",
      "('testing',)\n"
     ]
    }
   ],
   "source": [
    "def f(*arg,**args):\n",
    "    print(args)\n",
    "    print(arg)\n",
    "f('testing')"
   ]
  },
  {
   "cell_type": "code",
   "execution_count": 3,
   "metadata": {},
   "outputs": [
    {
     "ename": "SyntaxError",
     "evalue": "invalid syntax (<ipython-input-3-12804404a052>, line 1)",
     "output_type": "error",
     "traceback": [
      "\u001b[1;36m  File \u001b[1;32m\"<ipython-input-3-12804404a052>\"\u001b[1;36m, line \u001b[1;32m1\u001b[0m\n\u001b[1;33m    def func(*arg1,*arg2):\u001b[0m\n\u001b[1;37m                   ^\u001b[0m\n\u001b[1;31mSyntaxError\u001b[0m\u001b[1;31m:\u001b[0m invalid syntax\n"
     ]
    }
   ],
   "source": [
    "def func(*arg1,*arg2):\n",
    "    return dict(zip(arg1,arg2))\n",
    "type(func)"
   ]
  },
  {
   "cell_type": "code",
   "execution_count": 4,
   "metadata": {},
   "outputs": [
    {
     "name": "stdout",
     "output_type": "stream",
     "text": [
      "()\n"
     ]
    }
   ],
   "source": [
    "def a_func(*arg):\n",
    "    print(arg)\n",
    "a_func()"
   ]
  },
  {
   "cell_type": "code",
   "execution_count": 5,
   "metadata": {},
   "outputs": [
    {
     "name": "stdout",
     "output_type": "stream",
     "text": [
      "a==x b==y c==z "
     ]
    }
   ],
   "source": [
    "def f(**kwarg):\n",
    "    for key,value in kwarg.items():\n",
    "        print(key+\"==\"+value,end=\" \")\n",
    "f(a='x',b='y',c='z')"
   ]
  },
  {
   "cell_type": "code",
   "execution_count": 6,
   "metadata": {},
   "outputs": [
    {
     "name": "stdout",
     "output_type": "stream",
     "text": [
      "my\n",
      "name\n",
      "is\n",
      "ash\n",
      "iq\n",
      "khan\n"
     ]
    }
   ],
   "source": [
    "def f(*arg):\n",
    "    for a in arg:\n",
    "        print(a)\n",
    "f('my','name',\"is\",\"ash\",'iq','khan')"
   ]
  },
  {
   "cell_type": "code",
   "execution_count": 7,
   "metadata": {},
   "outputs": [
    {
     "ename": "SyntaxError",
     "evalue": "invalid syntax (<ipython-input-7-8a7162ca9146>, line 4)",
     "output_type": "error",
     "traceback": [
      "\u001b[1;36m  File \u001b[1;32m\"<ipython-input-7-8a7162ca9146>\"\u001b[1;36m, line \u001b[1;32m4\u001b[0m\n\u001b[1;33m    print(f \"{i}:{kwargs[i]}\",end=',')\u001b[0m\n\u001b[1;37m                            ^\u001b[0m\n\u001b[1;31mSyntaxError\u001b[0m\u001b[1;31m:\u001b[0m invalid syntax\n"
     ]
    }
   ],
   "source": [
    "def func(name=\"\",**kwargs):\n",
    "    print(f\"Name: {name} \",end=\",\")\n",
    "    for i in kwargs:\n",
    "        print(f \"{i}:{kwargs[i]}\",end=',')\n",
    "func(name=\"ahmad\",sname=\"ali\")"
   ]
  },
  {
   "cell_type": "code",
   "execution_count": 3,
   "metadata": {},
   "outputs": [
    {
     "ename": "SyntaxError",
     "evalue": "keyword can't be an expression (<ipython-input-3-e5054a113acc>, line 3)",
     "output_type": "error",
     "traceback": [
      "\u001b[1;36m  File \u001b[1;32m\"<ipython-input-3-e5054a113acc>\"\u001b[1;36m, line \u001b[1;32m3\u001b[0m\n\u001b[1;33m    func(1,2,3,3,4,'c'=5,'a'=1,'b'=2)\u001b[0m\n\u001b[1;37m                  ^\u001b[0m\n\u001b[1;31mSyntaxError\u001b[0m\u001b[1;31m:\u001b[0m keyword can't be an expression\n"
     ]
    }
   ],
   "source": [
    "def func(a,*b,c=0,**d):\n",
    "    print(a,b,c,d)\n",
    "func(1,2,3,3,4,c=5,'a'=1,'b'=2)"
   ]
  },
  {
   "cell_type": "code",
   "execution_count": 3,
   "metadata": {},
   "outputs": [
    {
     "name": "stdout",
     "output_type": "stream",
     "text": [
      "Enter a number: 145\n",
      "145\n",
      "2\n",
      "1\n"
     ]
    }
   ],
   "source": [
    "def fac(num):\n",
    "    sums = 0\n",
    "    copy = num\n",
    "    while(num):\n",
    "        r = num%10\n",
    "        temp = 1\n",
    "        for i in range(r,1,-1):\n",
    "            temp = temp * i\n",
    "        sums += temp\n",
    "        num //= 10\n",
    "    if(sums == copy):\n",
    "        print(copy)\n",
    "number = int(input(\"Enter a number: \"))\n",
    "while (number):\n",
    "    fac(number)\n",
    "    number -= 1"
   ]
  },
  {
   "cell_type": "code",
   "execution_count": 1,
   "metadata": {},
   "outputs": [
    {
     "name": "stdout",
     "output_type": "stream",
     "text": [
      "Writing MultiClasses.py\n"
     ]
    }
   ],
   "source": [
    "%%writefile MultiClasses.py\n",
    "\n",
    "class A:\n",
    "    def __init__(self):\n",
    "        self.a = \"Class A is called\"\n",
    "    def show(self):\n",
    "        print(self.a)\n",
    "\n",
    "class B:\n",
    "    def __init__(self):\n",
    "        self.b = \"Class B is called\"\n",
    "    def show(self):\n",
    "        print(self.b)\n",
    "        \n",
    "class C:\n",
    "    def __init__(self):\n",
    "        self.c = \"Class C is called\"\n",
    "    def show(self):\n",
    "        print(self.c)\n",
    "        \n",
    "class D:\n",
    "    def __init__(self):\n",
    "        self.d = \"Class D is called\"\n",
    "    def show(self):\n",
    "        print(self.d)"
   ]
  },
  {
   "cell_type": "code",
   "execution_count": 2,
   "metadata": {},
   "outputs": [],
   "source": [
    "import MultiClasses"
   ]
  },
  {
   "cell_type": "code",
   "execution_count": 5,
   "metadata": {},
   "outputs": [],
   "source": [
    "c1 = MultiClasses.A()"
   ]
  },
  {
   "cell_type": "code",
   "execution_count": 6,
   "metadata": {},
   "outputs": [
    {
     "name": "stdout",
     "output_type": "stream",
     "text": [
      "Class A is called\n"
     ]
    }
   ],
   "source": [
    "c1.show()"
   ]
  },
  {
   "cell_type": "code",
   "execution_count": 7,
   "metadata": {},
   "outputs": [],
   "source": [
    "from MultiClasses import B as classb"
   ]
  },
  {
   "cell_type": "code",
   "execution_count": 8,
   "metadata": {},
   "outputs": [],
   "source": [
    "c2 = classb()"
   ]
  },
  {
   "cell_type": "code",
   "execution_count": 9,
   "metadata": {},
   "outputs": [
    {
     "name": "stdout",
     "output_type": "stream",
     "text": [
      "Class B is called\n"
     ]
    }
   ],
   "source": [
    "c2.show()"
   ]
  },
  {
   "cell_type": "code",
   "execution_count": null,
   "metadata": {},
   "outputs": [],
   "source": [
    "# %load MultiClasses.py\n",
    "\n",
    "class A:\n",
    "    def __init__(self):\n",
    "        self.a = \"Class A is called\"\n",
    "    def show(self):\n",
    "        print(self.a)\n",
    "\n",
    "class B:\n",
    "    def __init__(self):\n",
    "        self.b = \"Class B is called\"\n",
    "    def show(self):\n",
    "        print(self.b)\n",
    "        \n",
    "class C:\n",
    "    def __init__(self):\n",
    "        self.c = \"Class C is called\"\n",
    "    def show(self):\n",
    "        print(self.c)\n",
    "        \n",
    "class D:\n",
    "    def __init__(self):\n",
    "        self.d = \"Class D is called\"\n",
    "    def show(self):\n",
    "        print(self.d)\n"
   ]
  },
  {
   "cell_type": "code",
   "execution_count": 11,
   "metadata": {},
   "outputs": [],
   "source": [
    "%run MultiClasses.py"
   ]
  },
  {
   "cell_type": "code",
   "execution_count": 12,
   "metadata": {},
   "outputs": [
    {
     "data": {
      "text/plain": [
       "'C:\\\\Users\\\\Admin\\\\Practice'"
      ]
     },
     "execution_count": 12,
     "metadata": {},
     "output_type": "execute_result"
    }
   ],
   "source": [
    "%pwd"
   ]
  },
  {
   "cell_type": "code",
   "execution_count": 2,
   "metadata": {},
   "outputs": [
    {
     "name": "stdout",
     "output_type": "stream",
     "text": [
      "One of my favorite book is Crash Course\n"
     ]
    }
   ],
   "source": [
    "def favorite_book(title):\n",
    "    print(f\"One of my favorite book is {title}\")\n",
    "favorite_book(\"Crash Course\")"
   ]
  },
  {
   "cell_type": "code",
   "execution_count": 3,
   "metadata": {},
   "outputs": [
    {
     "name": "stdout",
     "output_type": "stream",
     "text": [
      "The size of shirt is 25 with a message i like my life\n",
      "The size of shirt is 25 with a message i like my life\n",
      "The size of shirt is large with a message I love Python\n"
     ]
    }
   ],
   "source": [
    "def make_shirt(size=\"large\", message=\"I love Python\"):\n",
    "    print(f\"The size of shirt is {size} with a message {message}\")\n",
    "make_shirt(25, \"i like my life\")\n",
    "make_shirt(message=\"i like my life\", size=25)\n",
    "make_shirt()"
   ]
  },
  {
   "cell_type": "raw",
   "metadata": {},
   "source": [
    "Album: Write a function called make_album() that builds a dictionary\n",
    "describing a music album. The function should take in an artist name and an\n",
    "album title, and it should return a dictionary containing these two pieces of information. Use the function to make three dictionaries representing different albums. Print each return value to show that the dictionaries are storing the album information correctly.\n",
    "Use None to add an optional parameter to make_album() that allows you to\n",
    "store the number of songs on an album. If the calling line includes a value for the number of songs, add that value to the album’s dictionary. Make at least one new function call that includes the number of songs on an album."
   ]
  },
  {
   "cell_type": "code",
   "execution_count": 1,
   "metadata": {},
   "outputs": [
    {
     "name": "stdout",
     "output_type": "stream",
     "text": [
      "\n",
      "Enter informations about Music Album.\n",
      "(Enter q for quit.)\n",
      "Enter Artist Name: Atif Aslam\n",
      "Enter Album Title: Wohi Khuda Hai\n",
      "Enter number of songs: \n",
      "{'Artist': 'Atif Aslam', 'Title': 'Wohi Khuda Hai'}\n",
      "\n",
      "Enter informations about Music Album.\n",
      "(Enter q for quit.)\n",
      "Enter Artist Name: q\n"
     ]
    }
   ],
   "source": [
    "def make_album(artist_name, album_title, songs=None):\n",
    "    music_album = {}\n",
    "    music_album['Artist'] = artist_name\n",
    "    music_album['Title'] = album_title\n",
    "    if songs:\n",
    "        music_album['songs'] = songs\n",
    "    return music_album\n",
    "while True:\n",
    "    print(\"\\nEnter informations about Music Album.\")\n",
    "    print(\"(Enter q for quit.)\")\n",
    "    \n",
    "    name = input(\"Enter Artist Name: \")\n",
    "    if name == 'q':\n",
    "        break\n",
    "    title = input(\"Enter Album Title: \")\n",
    "    if title == 'q':\n",
    "        break\n",
    "    songs = input(\"Enter number of songs: \")\n",
    "    if songs == 'q':\n",
    "        break\n",
    "    print(make_album(name,title,songs))"
   ]
  },
  {
   "cell_type": "code",
   "execution_count": 2,
   "metadata": {},
   "outputs": [
    {
     "name": "stdout",
     "output_type": "stream",
     "text": [
      "message1\n",
      "message2\n",
      "message3\n"
     ]
    }
   ],
   "source": [
    "def show_messages(messages):\n",
    "    for message in messages:\n",
    "        print(message)\n",
    "messages = ['message1','message2','message3']\n",
    "show_messages(messages)"
   ]
  },
  {
   "cell_type": "code",
   "execution_count": 9,
   "metadata": {},
   "outputs": [
    {
     "name": "stdout",
     "output_type": "stream",
     "text": [
      "Lists of copy messages ['message1', 'message2', 'message3']\n",
      "Printing messgaes: message3\n",
      "Printing messgaes: message2\n",
      "Printing messgaes: message1\n",
      "Lists of original messages ['message1', 'message2', 'message3']\n",
      "List of sent messages: ['message3', 'message2', 'message1']\n"
     ]
    }
   ],
   "source": [
    "def send_messages(messages, sent_messages):\n",
    "    print(f\"Lists of copy messages {messages}\")\n",
    "    while messages:\n",
    "        message = messages.pop()\n",
    "        print(f\"Printing messgaes: {message}\")    \n",
    "        sent_messages.append(message)\n",
    "    print(f\"Lists of original messages {original_messages}\")\n",
    "    print(f\"List of sent messages: {sent_messages}\")\n",
    "\n",
    "original_messages = ['message1','message2','message3']\n",
    "sent_messages = []\n",
    "send_messages(messages[:],sent_messages)"
   ]
  },
  {
   "cell_type": "code",
   "execution_count": 13,
   "metadata": {},
   "outputs": [
    {
     "name": "stdout",
     "output_type": "stream",
     "text": [
      "\n",
      "We are making sandwich with the following items:\n",
      "\t mayo\n",
      "\t chicken\n",
      "\t capsiccum\n",
      "\t tomato\n",
      "\n",
      "We are making sandwich with the following items:\n",
      "\t garlic bread\n",
      "\t mustard sauce\n",
      "\n",
      "We are making sandwich with the following items:\n",
      "\t fajita chicken\n"
     ]
    }
   ],
   "source": [
    "def sandwich(*items):\n",
    "    print(\"\\nWe are making sandwich with the following items:\")\n",
    "    for item in items:\n",
    "        print(\"\\t\", item)\n",
    "\n",
    "sandwich('mayo','chicken','capsiccum','tomato')\n",
    "sandwich('garlic bread', 'mustard sauce')\n",
    "sandwich('fajita chicken')"
   ]
  },
  {
   "cell_type": "code",
   "execution_count": 17,
   "metadata": {},
   "outputs": [
    {
     "data": {
      "text/plain": [
       "{'Location': {'Pakistan': 'Gujranwala'},\n",
       " 'Firts Name': 'Amna',\n",
       " 'Last Name': 'Amir'}"
      ]
     },
     "execution_count": 17,
     "metadata": {},
     "output_type": "execute_result"
    }
   ],
   "source": [
    "def build_profile(first_name,last_name,**optional):\n",
    "    optional['Firts Name'] = first_name\n",
    "    optional['Last Name'] = last_name\n",
    "    \n",
    "    return optional\n",
    "\n",
    "users = {\n",
    " 'aeinstein': {\n",
    " 'first': 'albert',\n",
    " 'last': 'einstein',\n",
    " 'location': 'princeton',\n",
    "    },\n",
    " 'mcurie': {\n",
    " 'first': 'marie',\n",
    " 'last': 'curie',\n",
    " 'location': 'paris',\n",
    " },\n",
    " }\n",
    "build_profile('Amna','Amir',Location={'Pakistan':'Gujranwala'})"
   ]
  },
  {
   "cell_type": "code",
   "execution_count": 19,
   "metadata": {},
   "outputs": [
    {
     "name": "stdout",
     "output_type": "stream",
     "text": [
      "{'color': 'blue', 'tow_package': True, 'Manufacturer': 'subaru', 'Model': 'outback'}\n"
     ]
    }
   ],
   "source": [
    "def make_car(manufecturer,model,**features):\n",
    "    features['Manufacturer'] = manufecturer\n",
    "    features['Model'] = model\n",
    "    \n",
    "    return features\n",
    "    \n",
    "car = make_car('subaru', 'outback', color='blue', tow_package=True)\n",
    "print(car)"
   ]
  },
  {
   "cell_type": "code",
   "execution_count": 54,
   "metadata": {},
   "outputs": [],
   "source": [
    "class Human:\n",
    "    #class attribute\n",
    "    species = \"Homo Sapiens\"\n",
    "    \n",
    "    #initializer\n",
    "    def __init__(self,FirstName,LastName,age):\n",
    "        #instance attributes\n",
    "        self.FirstName = FirstName\n",
    "        self.LastName = LastName\n",
    "        self.age = age\n",
    "    \n",
    "    #class instance used in function/method\n",
    "    def show_speices(self):\n",
    "        print(f\"Class species: {Human.species}\")\n",
    "        \n",
    "    #instance mathods\n",
    "    def show_details(self):\n",
    "        print(f\"First Name: {self.FirstName} \\nLast Name: {self.LastName} \\nAge: {self.age}\")\n",
    "    \n",
    "    #instance return type method\n",
    "    def is_minor(self):\n",
    "        if self.age < 18:\n",
    "            return \"Minor\"\n",
    "        else:\n",
    "            return \"Not minor\"\n",
    "        \n",
    "class Student(Human):\n",
    "    #class attributes\n",
    "    college = \"Aspire Group of Colleges\"\n",
    "    \n",
    "    #initializer\n",
    "    def __init__(self,ID,Major):\n",
    "        super().__init__(FirstName,LastName,age)\n",
    "        self.ID = ID\n",
    "        self.Major = Major\n",
    "    \n",
    "    def show_details(self):\n",
    "        print(f\"Id: {self.ID} \\nMajor: {self.Major}\")"
   ]
  },
  {
   "cell_type": "code",
   "execution_count": 55,
   "metadata": {},
   "outputs": [
    {
     "ename": "TypeError",
     "evalue": "__init__() takes 3 positional arguments but 6 were given",
     "output_type": "error",
     "traceback": [
      "\u001b[1;31m---------------------------------------------------------------------------\u001b[0m",
      "\u001b[1;31mTypeError\u001b[0m                                 Traceback (most recent call last)",
      "\u001b[1;32m<ipython-input-55-cb161531c968>\u001b[0m in \u001b[0;36m<module>\u001b[1;34m\u001b[0m\n\u001b[0;32m      1\u001b[0m \u001b[0mhumanA\u001b[0m \u001b[1;33m=\u001b[0m \u001b[0mHuman\u001b[0m\u001b[1;33m(\u001b[0m\u001b[1;34m\"Amna\"\u001b[0m\u001b[1;33m,\u001b[0m\u001b[1;34m\"Amir\"\u001b[0m\u001b[1;33m,\u001b[0m\u001b[1;36m22\u001b[0m\u001b[1;33m)\u001b[0m\u001b[1;33m\u001b[0m\u001b[1;33m\u001b[0m\u001b[0m\n\u001b[0;32m      2\u001b[0m \u001b[0mhumanB\u001b[0m \u001b[1;33m=\u001b[0m \u001b[0mHuman\u001b[0m\u001b[1;33m(\u001b[0m\u001b[1;34m\"Bushra\"\u001b[0m\u001b[1;33m,\u001b[0m\u001b[1;34m\"Mafia\"\u001b[0m\u001b[1;33m,\u001b[0m\u001b[1;36m21\u001b[0m\u001b[1;33m)\u001b[0m\u001b[1;33m\u001b[0m\u001b[1;33m\u001b[0m\u001b[0m\n\u001b[1;32m----> 3\u001b[1;33m \u001b[0mstd1\u001b[0m \u001b[1;33m=\u001b[0m \u001b[0mStudent\u001b[0m\u001b[1;33m(\u001b[0m\u001b[1;36m1021\u001b[0m\u001b[1;33m,\u001b[0m \u001b[1;34m\"AI\"\u001b[0m\u001b[1;33m,\u001b[0m \u001b[1;34m\"Aliya\"\u001b[0m\u001b[1;33m,\u001b[0m\u001b[1;34m\"Amir\"\u001b[0m\u001b[1;33m,\u001b[0m\u001b[1;36m15\u001b[0m\u001b[1;33m)\u001b[0m\u001b[1;33m\u001b[0m\u001b[1;33m\u001b[0m\u001b[0m\n\u001b[0m",
      "\u001b[1;31mTypeError\u001b[0m: __init__() takes 3 positional arguments but 6 were given"
     ]
    }
   ],
   "source": [
    "humanA = Human(\"Amna\",\"Amir\",22)\n",
    "humanB = Human(\"Bushra\",\"Mafia\",21)\n",
    "std1 = Student(1021, \"AI\", \"Aliya\",\"Amir\",15)"
   ]
  },
  {
   "cell_type": "code",
   "execution_count": 39,
   "metadata": {},
   "outputs": [
    {
     "data": {
      "text/plain": [
       "'Mahi'"
      ]
     },
     "execution_count": 39,
     "metadata": {},
     "output_type": "execute_result"
    }
   ],
   "source": [
    "getattr(humanA, \"FirstName\", \"There is no middleName attribute\")"
   ]
  },
  {
   "cell_type": "code",
   "execution_count": 40,
   "metadata": {},
   "outputs": [],
   "source": [
    "setattr(humanA, \"MiddleName\", \"Farooq\")"
   ]
  },
  {
   "cell_type": "code",
   "execution_count": 42,
   "metadata": {},
   "outputs": [],
   "source": [
    "delattr(humanA, \"MiddleName\")"
   ]
  },
  {
   "cell_type": "code",
   "execution_count": 51,
   "metadata": {},
   "outputs": [
    {
     "name": "stdout",
     "output_type": "stream",
     "text": [
      "Id: 1021 \n",
      "Major: AI\n"
     ]
    }
   ],
   "source": [
    "std1.show_details()"
   ]
  },
  {
   "cell_type": "code",
   "execution_count": 56,
   "metadata": {},
   "outputs": [
    {
     "name": "stdout",
     "output_type": "stream",
     "text": [
      "100000000\n"
     ]
    }
   ],
   "source": [
    "print(1000_00_000)"
   ]
  },
  {
   "cell_type": "code",
   "execution_count": 10,
   "metadata": {},
   "outputs": [],
   "source": [
    "import json\n",
    "\n",
    "person_dict = {'name': 'Bob','age': 12,'children': None}\n",
    "person_json = json.dumps(person_dict)"
   ]
  },
  {
   "cell_type": "code",
   "execution_count": 11,
   "metadata": {},
   "outputs": [
    {
     "name": "stdout",
     "output_type": "stream",
     "text": [
      "{\"name\": \"Bob\", \"age\": 12, \"children\": null}\n"
     ]
    }
   ],
   "source": [
    "print(person_json)"
   ]
  },
  {
   "cell_type": "code",
   "execution_count": 1,
   "metadata": {},
   "outputs": [
    {
     "data": {
      "text/plain": [
       "4"
      ]
     },
     "execution_count": 1,
     "metadata": {},
     "output_type": "execute_result"
    }
   ],
   "source": [
    "import my as m\n",
    "m.sum1(2,2)"
   ]
  },
  {
   "cell_type": "code",
   "execution_count": 1,
   "metadata": {},
   "outputs": [
    {
     "name": "stdout",
     "output_type": "stream",
     "text": [
      "2019 Audi A4\n"
     ]
    }
   ],
   "source": [
    "from car import Car\n",
    "\n",
    "my_new_car = Car('audi', 'a4', 2019)\n",
    "my_new_car.get_descriptive_name()"
   ]
  },
  {
   "cell_type": "code",
   "execution_count": 2,
   "metadata": {},
   "outputs": [
    {
     "name": "stdout",
     "output_type": "stream",
     "text": [
      "This car has 23 miles on it.\n"
     ]
    }
   ],
   "source": [
    "my_new_car.odometer_reading = 23\n",
    "my_new_car.read_odometer()"
   ]
  },
  {
   "cell_type": "code",
   "execution_count": null,
   "metadata": {},
   "outputs": [],
   "source": []
  }
 ],
 "metadata": {
  "kernelspec": {
   "display_name": "Python 3",
   "language": "python",
   "name": "python3"
  },
  "language_info": {
   "codemirror_mode": {
    "name": "ipython",
    "version": 3
   },
   "file_extension": ".py",
   "mimetype": "text/x-python",
   "name": "python",
   "nbconvert_exporter": "python",
   "pygments_lexer": "ipython3",
   "version": "3.7.6"
  }
 },
 "nbformat": 4,
 "nbformat_minor": 4
}